{
 "cells": [
  {
   "cell_type": "markdown",
   "metadata": {},
   "source": [
    "# Data Prepration, CMPT826\n",
    "\n",
    "* Seyedeh Mina Mousavifar\n",
    "* Amirabbas Jalali"
   ]
  },
  {
   "cell_type": "markdown",
   "metadata": {},
   "source": [
    "##  STEP 1: Preparation"
   ]
  },
  {
   "cell_type": "markdown",
   "metadata": {},
   "source": [
    "### Data Collection"
   ]
  },
  {
   "cell_type": "code",
   "execution_count": 1,
   "metadata": {},
   "outputs": [
    {
     "name": "stdout",
     "output_type": "stream",
     "text": [
      "fetching data completed\n"
     ]
    }
   ],
   "source": [
    "import pandas as pd\n",
    "import sqlalchemy as db\n",
    "\n",
    "engine = db.create_engine('mysql://sem311:p^HA89/h@crepe.usask.ca:3306/SHED10')\n",
    "\n",
    "connection = engine.connect()\n",
    "metadata = db.MetaData()\n",
    "\n",
    "# Equivalent to 'SELECT * FROM battery\n",
    "battery = db.Table('battery', metadata, autoload=True, autoload_with=engine)\n",
    "query = db.select([battery])\n",
    "\n",
    "# getting data by executing the query above\n",
    "BatteryResultProxy = connection.execute(query)\n",
    "BatteryResultSet = BatteryResultProxy.fetchall()\n",
    "\n",
    "# converting data to data frame\n",
    "battery_data = pd.DataFrame(BatteryResultSet)\n",
    "battery_data.columns = BatteryResultSet[0].keys()\n",
    "\n",
    "# removing index column from data - 0 for rows and 1 for column\n",
    "battery_data = battery_data.drop('index', 1)\n",
    "\n",
    "# Equivalent to 'SELECT * FROM gps\n",
    "gps = db.Table('gps', metadata, autoload=True, autoload_with=engine)\n",
    "query = db.select([gps])\n",
    "\n",
    "# getting data by executing the query above\n",
    "GPSResultProxy = connection.execute(query)\n",
    "GPSResultSet = GPSResultProxy.fetchall()\n",
    "\n",
    "print('fetching data completed')"
   ]
  },
  {
   "cell_type": "code",
   "execution_count": 2,
   "metadata": {},
   "outputs": [],
   "source": [
    "# converting data to data frame\n",
    "gps_data = pd.DataFrame(GPSResultSet)\n",
    "gps_data.columns = GPSResultSet[0].keys()\n",
    "\n",
    "# removing index column from data - 0 for rows and 1 for column\n",
    "gps_data = gps_data.drop('index', 1)"
   ]
  },
  {
   "cell_type": "markdown",
   "metadata": {},
   "source": [
    "### Filtering Data"
   ]
  },
  {
   "cell_type": "code",
   "execution_count": 3,
   "metadata": {},
   "outputs": [],
   "source": [
    "# counting number of battery information per user\n",
    "battery_info = battery_data.groupby(['user_id']).size().reset_index(name='record_count')\n",
    "\n",
    "# calculating filtering cutoff\n",
    "cutoff_percentage = 0.5\n",
    "max_battery_info = (60 / 5) * 24 * 30\n",
    "battery_cutoff = cutoff_percentage * max_battery_info\n",
    "\n",
    "# filtering users with less than 50%\n",
    "battery_info_50 = battery_info.loc[battery_info['record_count'] > battery_cutoff]\n",
    "users_filter_50, _ = battery_info_50.shape\n",
    "\n",
    "# preserving only users with more than 50% battery record\n",
    "user_battery = pd.merge(left=battery_data, right=battery_info_50, \n",
    "                           left_on='user_id', right_on='user_id')\n",
    "\n",
    "# filtering accuracy more than 100\n",
    "gps_data = gps_data.loc[gps_data['accu'] < 100]\n",
    "\n",
    "# outside latitude range\n",
    "gps_data = gps_data.loc[gps_data['lat'] > 52.058366]\n",
    "gps_data = gps_data.loc[gps_data['lat'] < 52.214609]\n",
    "\n",
    "# outside longitude range\n",
    "gps_data = gps_data[gps_data['lon'] > -106.7649138128]\n",
    "gps_data = gps_data.loc[gps_data['lon'] < -106.52225319]\n",
    "\n",
    "# creating dataframe for filtering Saskatoon data for preferred users\n",
    "good_50_user_id = user_battery.user_id.unique()\n",
    "gps_data = gps_data[gps_data.user_id.isin(good_50_user_id)]"
   ]
  },
  {
   "cell_type": "markdown",
   "metadata": {},
   "source": [
    "### Stratify and Aggregate"
   ]
  },
  {
   "cell_type": "code",
   "execution_count": 4,
   "metadata": {},
   "outputs": [],
   "source": [
    "import datetime\n",
    "import math\n",
    "from pyproj import Proj\n",
    "import numpy as np\n",
    "\n",
    "# removing unnecessary columns\n",
    "gps_data = gps_data.drop(['accu', 'alt', \n",
    "                          'bearing', 'speed', \n",
    "                          'record_time_minute', \n",
    "                          'timestamp', 'pokemon'], 1)\n",
    "\n",
    "# calculating mean of latitude and longitude for every duty cycle\n",
    "gps_data = gps_data.astype({'lat': 'float64', 'lon': 'float64'})\n",
    "\n",
    "# sorting based on time \n",
    "gps_data = gps_data.sort_values(['user_id', 'record_time'])\n",
    "\n",
    "# removing December test data\n",
    "gps_data['Date'] = pd.to_datetime(gps_data['record_time']).dt.date\n",
    "testdate = datetime.datetime.strptime('2016-12-09', \"%Y-%m-%d\").date()\n",
    "gps_data = gps_data[(gps_data['Date'] > testdate)].dropna().reset_index()\n",
    "gps_data = gps_data.drop(['Date', 'index'],1)\n",
    "\n",
    "\n",
    "# extract duty cycles and calculate mean of latitude and longitude\n",
    "gps_data = gps_data.groupby('user_id').resample('5T', on='record_time').mean()\n",
    "gps_data = gps_data.drop(['user_id'],1).reset_index()\n",
    "\n",
    "# converting to UTM\n",
    "myproj = Proj('epsg:32613', proj='utm', zone=13, \n",
    "              ellps='WGS84', preserve_units=True)\n",
    "\n",
    "gps_data['x'], gps_data['y'] = myproj(gps_data['lon'].values, \n",
    "                                      gps_data['lat'].values)\n",
    "# binning\n",
    "GRID_SIZE = 100\n",
    "\n",
    "# find grid start point\n",
    "start_x, start_y = gps_data.x.min(), gps_data.y.min()\n",
    "\n",
    "# labeling grids\n",
    "gps_data['x_grid'] = np.ceil((gps_data['x'] - start_x)/GRID_SIZE)\n",
    "gps_data['y_grid'] = np.ceil((gps_data['y'] - start_y)/GRID_SIZE)\n",
    "\n",
    "# sort data\n",
    "gps_data = gps_data.sort_values(['user_id', 'record_time']).dropna()\n",
    "\n",
    "# creating grid cell labels (x,y)\n",
    "gps_data = gps_data.astype({'x_grid': 'int32', \n",
    "                            'y_grid': 'int32'}).astype({'x_grid': 'str', \n",
    "                                                        'y_grid': 'str'})\n",
    "gps_data['grid_label'] = gps_data['x_grid'] + ',' + gps_data['y_grid']\n",
    "gps_data = gps_data.astype({'x_grid': 'int32', 'y_grid': 'int32'})"
   ]
  },
  {
   "cell_type": "code",
   "execution_count": 5,
   "metadata": {},
   "outputs": [],
   "source": [
    "# normalize the times\n",
    "# find the first record time of each user\n",
    "begin_time = gps_data.groupby('user_id')['record_time'].min().reset_index()\n",
    "begin_time.columns = ['user_id', 'start']\n",
    "gps_data_time = pd.merge(gps_data, begin_time, on='user_id')\n",
    "\n",
    "# find the difference between times\n",
    "gps_data_time['time_ts'] = gps_data_time['record_time'] - gps_data_time['start']"
   ]
  },
  {
   "cell_type": "code",
   "execution_count": 6,
   "metadata": {},
   "outputs": [],
   "source": [
    "# make row and col number in matrix by creating 5 minutes span and a day as a new row\n",
    "gps_data_time['time_s'] = gps_data_time['time_ts'].apply(lambda x: x.seconds/300)\n",
    "gps_data_time['time_d'] = gps_data_time['time_ts'].apply(lambda x: x.days)"
   ]
  },
  {
   "cell_type": "code",
   "execution_count": 8,
   "metadata": {},
   "outputs": [
    {
     "data": {
      "text/html": [
       "<div>\n",
       "<style scoped>\n",
       "    .dataframe tbody tr th:only-of-type {\n",
       "        vertical-align: middle;\n",
       "    }\n",
       "\n",
       "    .dataframe tbody tr th {\n",
       "        vertical-align: top;\n",
       "    }\n",
       "\n",
       "    .dataframe thead th {\n",
       "        text-align: right;\n",
       "    }\n",
       "</style>\n",
       "<table border=\"1\" class=\"dataframe\">\n",
       "  <thead>\n",
       "    <tr style=\"text-align: right;\">\n",
       "      <th></th>\n",
       "      <th>user_id</th>\n",
       "      <th>lat</th>\n",
       "      <th>lon</th>\n",
       "      <th>x</th>\n",
       "      <th>y</th>\n",
       "      <th>x_grid</th>\n",
       "      <th>y_grid</th>\n",
       "      <th>time_ts</th>\n",
       "      <th>time_s</th>\n",
       "      <th>time_d</th>\n",
       "    </tr>\n",
       "  </thead>\n",
       "  <tbody>\n",
       "    <tr>\n",
       "      <th>count</th>\n",
       "      <td>249869.000000</td>\n",
       "      <td>249869.000000</td>\n",
       "      <td>249869.000000</td>\n",
       "      <td>249869.000000</td>\n",
       "      <td>2.498690e+05</td>\n",
       "      <td>249869.000000</td>\n",
       "      <td>249869.000000</td>\n",
       "      <td>249869</td>\n",
       "      <td>249869.000000</td>\n",
       "      <td>249869.000000</td>\n",
       "    </tr>\n",
       "    <tr>\n",
       "      <th>mean</th>\n",
       "      <td>1070.520385</td>\n",
       "      <td>52.127052</td>\n",
       "      <td>-106.632260</td>\n",
       "      <td>388265.692709</td>\n",
       "      <td>5.776427e+06</td>\n",
       "      <td>90.715639</td>\n",
       "      <td>75.588480</td>\n",
       "      <td>15 days 02:57:47.179202</td>\n",
       "      <td>142.816284</td>\n",
       "      <td>14.627573</td>\n",
       "    </tr>\n",
       "    <tr>\n",
       "      <th>std</th>\n",
       "      <td>266.378372</td>\n",
       "      <td>0.012848</td>\n",
       "      <td>0.034965</td>\n",
       "      <td>2391.984408</td>\n",
       "      <td>1.432205e+03</td>\n",
       "      <td>23.911164</td>\n",
       "      <td>14.292307</td>\n",
       "      <td>8 days 16:48:55.750843</td>\n",
       "      <td>82.762601</td>\n",
       "      <td>8.701522</td>\n",
       "    </tr>\n",
       "    <tr>\n",
       "      <th>min</th>\n",
       "      <td>514.000000</td>\n",
       "      <td>52.058564</td>\n",
       "      <td>-106.764668</td>\n",
       "      <td>379245.647471</td>\n",
       "      <td>5.768916e+06</td>\n",
       "      <td>0.000000</td>\n",
       "      <td>0.000000</td>\n",
       "      <td>0 days 00:00:00</td>\n",
       "      <td>0.000000</td>\n",
       "      <td>0.000000</td>\n",
       "    </tr>\n",
       "    <tr>\n",
       "      <th>25%</th>\n",
       "      <td>943.000000</td>\n",
       "      <td>52.121743</td>\n",
       "      <td>-106.640109</td>\n",
       "      <td>387717.553568</td>\n",
       "      <td>5.775839e+06</td>\n",
       "      <td>85.000000</td>\n",
       "      <td>70.000000</td>\n",
       "      <td>7 days 14:25:00</td>\n",
       "      <td>72.000000</td>\n",
       "      <td>7.000000</td>\n",
       "    </tr>\n",
       "    <tr>\n",
       "      <th>50%</th>\n",
       "      <td>1052.000000</td>\n",
       "      <td>52.125824</td>\n",
       "      <td>-106.633810</td>\n",
       "      <td>388154.963517</td>\n",
       "      <td>5.776294e+06</td>\n",
       "      <td>90.000000</td>\n",
       "      <td>74.000000</td>\n",
       "      <td>15 days 06:05:00</td>\n",
       "      <td>142.000000</td>\n",
       "      <td>15.000000</td>\n",
       "    </tr>\n",
       "    <tr>\n",
       "      <th>75%</th>\n",
       "      <td>1315.000000</td>\n",
       "      <td>52.132320</td>\n",
       "      <td>-106.629688</td>\n",
       "      <td>388455.745718</td>\n",
       "      <td>5.777032e+06</td>\n",
       "      <td>93.000000</td>\n",
       "      <td>82.000000</td>\n",
       "      <td>22 days 14:15:00</td>\n",
       "      <td>215.000000</td>\n",
       "      <td>22.000000</td>\n",
       "    </tr>\n",
       "    <tr>\n",
       "      <th>max</th>\n",
       "      <td>1364.000000</td>\n",
       "      <td>52.214304</td>\n",
       "      <td>-106.524286</td>\n",
       "      <td>395714.933489</td>\n",
       "      <td>5.786180e+06</td>\n",
       "      <td>165.000000</td>\n",
       "      <td>173.000000</td>\n",
       "      <td>34 days 18:15:00</td>\n",
       "      <td>287.000000</td>\n",
       "      <td>34.000000</td>\n",
       "    </tr>\n",
       "  </tbody>\n",
       "</table>\n",
       "</div>"
      ],
      "text/plain": [
       "             user_id            lat            lon              x  \\\n",
       "count  249869.000000  249869.000000  249869.000000  249869.000000   \n",
       "mean     1070.520385      52.127052    -106.632260  388265.692709   \n",
       "std       266.378372       0.012848       0.034965    2391.984408   \n",
       "min       514.000000      52.058564    -106.764668  379245.647471   \n",
       "25%       943.000000      52.121743    -106.640109  387717.553568   \n",
       "50%      1052.000000      52.125824    -106.633810  388154.963517   \n",
       "75%      1315.000000      52.132320    -106.629688  388455.745718   \n",
       "max      1364.000000      52.214304    -106.524286  395714.933489   \n",
       "\n",
       "                  y         x_grid         y_grid                  time_ts  \\\n",
       "count  2.498690e+05  249869.000000  249869.000000                   249869   \n",
       "mean   5.776427e+06      90.715639      75.588480  15 days 02:57:47.179202   \n",
       "std    1.432205e+03      23.911164      14.292307   8 days 16:48:55.750843   \n",
       "min    5.768916e+06       0.000000       0.000000          0 days 00:00:00   \n",
       "25%    5.775839e+06      85.000000      70.000000          7 days 14:25:00   \n",
       "50%    5.776294e+06      90.000000      74.000000         15 days 06:05:00   \n",
       "75%    5.777032e+06      93.000000      82.000000         22 days 14:15:00   \n",
       "max    5.786180e+06     165.000000     173.000000         34 days 18:15:00   \n",
       "\n",
       "              time_s         time_d  \n",
       "count  249869.000000  249869.000000  \n",
       "mean      142.816284      14.627573  \n",
       "std        82.762601       8.701522  \n",
       "min         0.000000       0.000000  \n",
       "25%        72.000000       7.000000  \n",
       "50%       142.000000      15.000000  \n",
       "75%       215.000000      22.000000  \n",
       "max       287.000000      34.000000  "
      ]
     },
     "execution_count": 8,
     "metadata": {},
     "output_type": "execute_result"
    }
   ],
   "source": [
    "gps_data_time.describe()"
   ]
  },
  {
   "cell_type": "markdown",
   "metadata": {},
   "source": [
    "### Data Processing for Modeling"
   ]
  },
  {
   "cell_type": "code",
   "execution_count": 44,
   "metadata": {},
   "outputs": [],
   "source": [
    "from scipy import sparse\n",
    "\n",
    "def data_masker(data, user_number, row_col, col_col, x_col, y_col, p):\n",
    "    '''\n",
    "    purpose:\n",
    "        Create and mask the data for learning and testing\n",
    "    params:\n",
    "        1. data(list of dataframes): The users traces - list of all users traces in dataframe separately\n",
    "        2. user_number(int): The number of user in the user_traces list - not the user_id \n",
    "        #TODO map the user_id to user number\n",
    "        3. row_col, col_col, x_col, y_col(string): name of these columns in the data\n",
    "        4. P(0~1): The probability of hiding an existed trace - used for masking the data\n",
    "    '''\n",
    "    # check the input for p\n",
    "    if p > 1 or p < 0:\n",
    "        p = 0.5\n",
    "    \n",
    "    row = data[user_number][row_col].values.astype(int)\n",
    "    col = data[user_number][col_col].values.astype(int)\n",
    "    val_x = data[user_number][x_col].values.astype(float)\n",
    "    val_y = data[user_number][y_col].values.astype(float)\n",
    "\n",
    "    data_x = sparse.coo_matrix((val_x, (row, col)))\n",
    "    data_y = sparse.coo_matrix((val_y, (row, col)))\n",
    "\n",
    "    data_x = data_x.todense()\n",
    "    data_x = np.array(data_x)\n",
    "    # create a copy of unmasked data for testing\n",
    "    data_x_org = np.copy(data_x)\n",
    "    # create a mask for hiding existed data\n",
    "    indices_x = np.random.choice(a=[False, True], size=(data_x.shape[0], data_x.shape[1]), p=[1-p, p])\n",
    "    data_x[indices_x] = 0\n",
    "    # finding the percentage of missing data\n",
    "    missing_x = len(data_x[data_x == 0])\n",
    "    len_x = len(data_x)\n",
    "    missing_x = missing_x/(len_x*288)\n",
    "    # make the 0 to nan for fancyimpute\n",
    "    data_x[data_x == 0] = np.nan\n",
    "\n",
    "    data_y = data_y.todense()\n",
    "    data_y = np.array(data_y)\n",
    "    # create a copy of unmasked data for testing\n",
    "    data_y_org = np.copy(data_y)\n",
    "    # create a mask for hiding existed data\n",
    "    indices_y = np.random.choice(a=[False, True], size=(data_x.shape[0], data_x.shape[1]), p=[1-p, p])\n",
    "    data_y[indices_y] = 0\n",
    "    # finding the percentage of missing data\n",
    "    missing_y = len(data_y[data_y == 0])\n",
    "    len_y = len(data_y)\n",
    "    missing_y = missing_y/(len_y*288)\n",
    "    # make the 0 to nan for fancyimpute\n",
    "    data_y[data_y == 0] = np.nan\n",
    "    \n",
    "    return data_x, data_x_org, data_y, data_y_org, missing_x, missing_y"
   ]
  },
  {
   "cell_type": "markdown",
   "metadata": {},
   "source": [
    "### Predict Missing Data"
   ]
  },
  {
   "cell_type": "code",
   "execution_count": 37,
   "metadata": {},
   "outputs": [],
   "source": [
    "from fancyimpute import KNN, IterativeImputer, SoftImpute, IterativeSVD, SimpleFill, MatrixFactorization\n",
    "\n",
    "def fill_data(data_x, data_y):\n",
    "    '''\n",
    "    purpose:\n",
    "        Fill the missing part of the datasets using following 6 different methods.\n",
    "            * SimpleFill: Replaces missing entries with the mean or median of each column.\n",
    "            * KNN: Nearest neighbor imputations which weights samples using the mean squared difference on features\n",
    "                for which two rows both have observed data.\n",
    "            * SoftImpute: Matrix completion by iterative soft thresholding of SVD decompositions. Inspired by the softImpute\n",
    "                package for R, which is based on Spectral Regularization Algorithms for Learning Large Incomplete Matrices by\n",
    "                Mazumder et. al.\n",
    "            * IterativeSVD: Matrix completion by iterative low-rank SVD decomposition. Should be similar to SVDimpute from\n",
    "                Missing value estimation methods for DNA microarrays by Troyanskaya et. al.\n",
    "            * MatrixFactorization: Direct factorization of the incomplete matrix into low-rank U and V, with an L1 \n",
    "                sparsity penalty on the elements of U and an L2 penalty on the elements of V. Solved by gradient descent.\n",
    "            * IterativeImputer: A strategy for imputing missing values by modeling each feature with missing values as a\n",
    "                function of other features in a round-robin fashion. A stub that links to scikit-learn's IterativeImputer.\n",
    "    params:\n",
    "        1. data_x(np.array):\n",
    "            2D np.array for the base matrix (matrix of position of user in every 5 minutes in a day in one month)\n",
    "        2. data_y(np.array):\n",
    "            2D np.array for the base matrix (matrix of position of user in every 5 minutes in a day in one month)\n",
    "\n",
    "    '''\n",
    "\n",
    "    # filling the missing x coordinates\n",
    "    x_filled_simplefill = SimpleFill().fit_transform(data_x)\n",
    "\n",
    "    x_filled_knn = KNN(k=5).fit_transform(data_x)\n",
    "\n",
    "    x_filled_softimpute = SoftImpute(verbose=False).fit_transform(data_x)\n",
    "\n",
    "    x_filled_iterativeSVD = IterativeSVD(verbose=False).fit_transform(data_x)\n",
    "\n",
    "    x_filled_matrixfactorization = MatrixFactorization(verbose=False).fit_transform(data_x)\n",
    "\n",
    "    x_filled_iterativeimputer = IterativeImputer(verbose=False).fit_transform(data_x)\n",
    "\n",
    "    # filling the missing x coordinates\n",
    "    y_filled_simplefill = SimpleFill().fit_transform(data_y)\n",
    "\n",
    "    y_filled_knn = KNN(k=5).fit_transform(data_y)\n",
    "\n",
    "    y_filled_softimpute = SoftImpute(verbose=False).fit_transform(data_y)\n",
    "\n",
    "    y_filled_iterativeSVD = IterativeSVD(verbose=False).fit_transform(data_y)\n",
    "\n",
    "    y_filled_matrixfactorization = MatrixFactorization(verbose=False).fit_transform(data_y)\n",
    "\n",
    "    y_filled_iterativeimputer = IterativeImputer(verbose=False).fit_transform(data_y)\n",
    "    \n",
    "    # make the prediction an integer number to represent a grid cell\n",
    "    x_filled_simplefill = np.around(x_filled_simplefill)\n",
    "    x_filled_knn = np.around(x_filled_knn)\n",
    "    x_filled_softimpute = np.around(x_filled_softimpute)\n",
    "    x_filled_iterativeSVD = np.around(x_filled_iterativeSVD)\n",
    "    x_filled_matrixfactorization = np.around(x_filled_matrixfactorization)\n",
    "    x_filled_iterativeimputer = np.around(x_filled_iterativeimputer)\n",
    "\n",
    "    y_filled_simplefill = np.around(y_filled_simplefill)\n",
    "    y_filled_knn = np.around(y_filled_knn)\n",
    "    y_filled_softimpute = np.around(y_filled_softimpute)\n",
    "    y_filled_iterativeSVD = np.around(y_filled_iterativeSVD)\n",
    "    y_filled_matrixfactorization = np.around(y_filled_matrixfactorization)\n",
    "    y_filled_iterativeimputer = np.around(y_filled_iterativeimputer)\n",
    "    \n",
    "    return x_filled_simplefill,x_filled_knn,x_filled_softimpute,x_filled_iterativeSVD,x_filled_matrixfactorization,x_filled_iterativeimputer, y_filled_simplefill,y_filled_knn,y_filled_softimpute,y_filled_iterativeSVD,y_filled_matrixfactorization,y_filled_iterativeimputer   "
   ]
  },
  {
   "cell_type": "markdown",
   "metadata": {},
   "source": [
    "### Processing The Result for Illustration"
   ]
  },
  {
   "cell_type": "code",
   "execution_count": 38,
   "metadata": {},
   "outputs": [],
   "source": [
    "def filled_to_df(filled_data_x, filled_data_y, start_time):\n",
    "    '''\n",
    "    purpose:\n",
    "        create a dataframe with the filled datasets for x and y and create the datetime based on row and col of base matrix\n",
    "    params:\n",
    "        1.filled_data_x(np.array): The output of fill_data method\n",
    "        2.filled_data_y(np.array): The output of fill_data method\n",
    "        3.start_time(string): The first record time of a user - sample: '2017-02-06 07:50:00'\n",
    "    '''\n",
    "    # convert to dataframe\n",
    "    filled_data_x = pd.DataFrame(filled_data_x).reset_index().melt('index')\n",
    "    filled_data_x.columns = ['row', 'column', 'value_x']\n",
    "\n",
    "    filled_data_y = pd.DataFrame(filled_data_y).reset_index().melt('index')\n",
    "    filled_data_y.columns = ['row', 'column', 'value_y']\n",
    "    \n",
    "    # merge them togather\n",
    "    xy_filled_df = pd.merge(filled_data_x, filled_data_y, on=['row', 'column'])\n",
    "    xy_filled_df['time'] = xy_filled_df['row']*(24*60) + xy_filled_df['column']*(5)\n",
    "    \n",
    "    # find the datetime\n",
    "    origin = (start_time-datetime.datetime(1970,1,1)).total_seconds()\n",
    "\n",
    "    xy_filled_df['datetime'] = pd.to_datetime(xy_filled_df['time']*60 + origin,\n",
    "                                                         unit='s')\n",
    "    # sort final result by time\n",
    "    xy_filled_df = xy_filled_df.sort_values(by=['time'])\n",
    "    return xy_filled_df"
   ]
  },
  {
   "cell_type": "code",
   "execution_count": 39,
   "metadata": {},
   "outputs": [],
   "source": [
    "def not_filled_to_df(not_filled_x, not_filled_y, masked):\n",
    "    '''\n",
    "    purpose:\n",
    "        Create a dataframe based on the raw data\n",
    "    params:\n",
    "        1. not_filled_x, not_filled_y(np.arrays): 2D np.array - raw data\n",
    "        2. mask(0,1): to check the data is masked or not\n",
    "    '''\n",
    "    if masked == 0:\n",
    "        data_x_df = pd.DataFrame(not_filled_x).reset_index().melt('index')\n",
    "        data_x_df.columns = ['row', 'column', 'value_x_org']\n",
    "\n",
    "        data_y_df = pd.DataFrame(not_filled_y).reset_index().melt('index')\n",
    "        data_y_df.columns = ['row', 'column', 'value_y_org']\n",
    "\n",
    "        data_xy = pd.merge(data_x_df, data_y_df, on=['row', 'column'])\n",
    "        data_xy['masked'] = np.where(data_xy['value_x_org']>0, 0, 1)\n",
    "    else:\n",
    "        data_x_df = pd.DataFrame(not_filled_x).reset_index().melt('index')\n",
    "        data_x_df.columns = ['row', 'column', 'value_x']\n",
    "\n",
    "        data_y_df = pd.DataFrame(not_filled_y).reset_index().melt('index')\n",
    "        data_y_df.columns = ['row', 'column', 'value_y']\n",
    "\n",
    "        data_xy = pd.merge(data_x_df, data_y_df, on=['row', 'column'])\n",
    "        \n",
    "    return data_xy"
   ]
  },
  {
   "cell_type": "markdown",
   "metadata": {},
   "source": [
    "### Labeling The Data for Better Understanding"
   ]
  },
  {
   "cell_type": "code",
   "execution_count": 40,
   "metadata": {},
   "outputs": [],
   "source": [
    "def label_data(xy_filled, data_xy_masked, data_xy, existed_data_color,\n",
    "               missing_data_color, predicted_data_color, actual_data_color):\n",
    "    '''\n",
    "    purpose:\n",
    "        Create a lable for data with colors for animation\n",
    "    params:\n",
    "        1. xy_filled(dataframe): The output of the fill_data method\n",
    "        2. data_xy_masked(dataframe): The masked data\n",
    "        3. data_xy(dataframe): The raw data\n",
    "        4. existed_data_color, missing_data_color, masked_data_color, unmasked_data_color(string):\n",
    "            name of the prefered colors for each data\n",
    "    '''\n",
    "    labled_data = pd.merge(xy_filled, data_xy_masked, on=['row', 'column'])\n",
    "    labled_data = pd.merge(labled_data, data_xy, on=['row', 'column'])\n",
    "    labled_data['predicted'] = np.where(labled_data['value_x_y'] > 0, 0, 1)\n",
    "    labled_data['masked'] = labled_data['masked'] + labled_data['predicted']\n",
    "    labled_data['predicted'] = np.where(labled_data['value_x_y'] > 0, existed_data_color, missing_data_color)\n",
    "    labled_data['predicted'] = np.where(labled_data['masked'] == 1, predicted_data_color, labled_data['predicted'])\n",
    "    labled_data.drop(['value_x_y', 'value_y_y'], axis=1, inplace=True)\n",
    "    labled_data.columns = ['row', 'column', 'value_x', 'value_y', 'time', 'datetime',\n",
    "                           'value_x_org', 'value_y_org', 'masked', 'predicted']\n",
    "\n",
    "    actual_set = labled_data[labled_data['masked'] == 1].copy()\n",
    "    actual_set['predicted'] = actual_data_color\n",
    "    actual_set['value_x'] = actual_set['value_x_org']\n",
    "    actual_set['value_y'] = actual_set['value_y_org']\n",
    "\n",
    "    labled_data = pd.concat([labled_data, actual_set])\n",
    "    return labled_data"
   ]
  },
  {
   "cell_type": "markdown",
   "metadata": {},
   "source": [
    "### Evaluation"
   ]
  },
  {
   "cell_type": "code",
   "execution_count": 41,
   "metadata": {},
   "outputs": [],
   "source": [
    "def mae_calc(labled_data, mask_col, actual_col_x, predicted_col_x, actual_col_y, predicted_col_y):\n",
    "    '''\n",
    "    purpose:\n",
    "        Calculate the mean absolute error for x and y\n",
    "    params:\n",
    "        1. labled_data(dataframe): The output of the lable_data method\n",
    "        2. mask_col(string): The name of masked(bool) column\n",
    "        3. actual_col(string): The name of actual data column\n",
    "        4. predicted_col(string): The name of predicted data column\n",
    "    '''\n",
    "    mse_set = labled_data[labled_data[mask_col] == 1].copy()\n",
    "    mse_set['mse_x'] = abs(mse_set[actual_col_x]-mse_set[predicted_col_x])\n",
    "    mse_set['mse_y'] = abs(mse_set[actual_col_y]-mse_set[predicted_col_y])\n",
    "    mse_x = mse_set['mse_x'].mean()\n",
    "    mse_y = mse_set['mse_y'].mean()\n",
    "    return mse_x, mse_y"
   ]
  },
  {
   "cell_type": "markdown",
   "metadata": {},
   "source": [
    "### Plotting and Animating"
   ]
  },
  {
   "cell_type": "code",
   "execution_count": 62,
   "metadata": {},
   "outputs": [],
   "source": [
    "import folium\n",
    "from folium.plugins import *\n",
    "\n",
    "def create_animation(data_in, user_number, algo_name):\n",
    "    '''\n",
    "    purpose:\n",
    "        Create an animation on html map for input data\n",
    "    params:\n",
    "        1. data_in(dataframe): The output of the lable_data method\n",
    "        2. user_number(int): The number of user in the user_traces list - not the user_id \n",
    "        #TODO map the user_id to user number\n",
    "        3. algo_name(string): The name of actual data column\n",
    "    '''\n",
    "    # create saskatoon map\n",
    "    pmap_data = folium.Map(location=[52.058367, -106.7649138128])\n",
    "\n",
    "    # covert to float\n",
    "    data_in = data_in.astype({'value_x': 'float64',\n",
    "                              'value_y': 'float64'})\n",
    "\n",
    "    # calculate center of grid to convert to latitude and longitude for heatmap plotting\n",
    "    data_in['x_center'] = data_in['value_x']*GRID_SIZE - (0.5*GRID_SIZE) + start_x\n",
    "    data_in['y_center'] = data_in['value_y']*GRID_SIZE - (0.5*GRID_SIZE) + start_y\n",
    "\n",
    "    # convert to latitude and longitude\n",
    "    myproj = Proj('epsg:32613', proj='utm', zone=13, ellps='WGS84', preserve_units=True)\n",
    "\n",
    "    data_in['lon_center'], data_in['lat_center'] = myproj(data_in['x_center'].values, \n",
    "                                                          data_in['y_center'].values, \n",
    "                                                          inverse=True)\n",
    "\n",
    "    lines = [\n",
    "        {\n",
    "            'coordinates': [\n",
    "                [data_in.lon_center.iloc[index], data_in.lat_center.iloc[index]],\n",
    "                [data_in.lon_center.iloc[index+1], data_in.lat_center.iloc[index+1]]\n",
    "            ],\n",
    "            'dates': [\n",
    "                str(data_in.datetime.iloc[index]),\n",
    "                str(data_in.datetime.iloc[index+1])\n",
    "            ],\n",
    "            'color': str(data_in.predicted.iloc[index+1])\n",
    "        }\n",
    "        for index in range(len(data_in)-1)\n",
    "    ]\n",
    "\n",
    "    features = [\n",
    "        {\n",
    "            'type': 'Feature',\n",
    "            'geometry': {\n",
    "                'type': 'LineString',\n",
    "                'coordinates': line['coordinates'],\n",
    "            },\n",
    "            'properties': {\n",
    "                'times': line['dates'],\n",
    "                'style': {\n",
    "                    'color': line['color'],\n",
    "                    'weight': line['weight'] if 'weight' in line else 4\n",
    "                }\n",
    "            }\n",
    "        }\n",
    "        for line in lines\n",
    "    ]\n",
    "\n",
    "    TimestampedGeoJson({\n",
    "        'type': 'FeatureCollection',\n",
    "        'features': features,\n",
    "    }, period='PT5M',duration='PT1H', add_last_point=False, transition_time=1000).add_to(pmap_data)\n",
    "    \n",
    "    path= \"Animations/trace_animation_\"+str(user_number)+\"_\"+str(algo_name)+\".html\"\n",
    "    pmap_data.save(path)"
   ]
  },
  {
   "cell_type": "markdown",
   "metadata": {},
   "source": [
    "### Execution With Given Parameters"
   ]
  },
  {
   "cell_type": "code",
   "execution_count": 64,
   "metadata": {},
   "outputs": [
    {
     "name": "stdout",
     "output_type": "stream",
     "text": [
      "41  is under processing!\n",
      "Imputing row 1/29 with 60 missing, elapsed time: 0.003\n"
     ]
    },
    {
     "name": "stderr",
     "output_type": "stream",
     "text": [
      "/student/amj301/.local/lib/python3.6/site-packages/sklearn/impute/_iterative.py:638: ConvergenceWarning: [IterativeImputer] Early stopping criterion not reached.\n",
      "  \" reached.\", ConvergenceWarning)\n"
     ]
    },
    {
     "name": "stdout",
     "output_type": "stream",
     "text": [
      "Imputing row 1/29 with 53 missing, elapsed time: 0.005\n"
     ]
    },
    {
     "name": "stderr",
     "output_type": "stream",
     "text": [
      "/student/amj301/.local/lib/python3.6/site-packages/sklearn/impute/_iterative.py:638: ConvergenceWarning: [IterativeImputer] Early stopping criterion not reached.\n",
      "  \" reached.\", ConvergenceWarning)\n"
     ]
    }
   ],
   "source": [
    "from IPython.display import clear_output\n",
    "\n",
    "# main\n",
    "# spliting the dataframe for every user\n",
    "users_traces = [frame for user, frame in gps_data_time[['user_id', 'time_s', 'time_d',\n",
    "                                                        'x_grid', 'y_grid']].groupby('user_id')]\n",
    "# len(begin_time) == number of users\n",
    "mae = {'x':{'SimpleFill':[], 'KNN':[], 'SoftImpute':[], 'IterativeSVD':[], 'MatrixFactorization':[], 'IterativeImputer':[]},\n",
    "       'y':{'SimpleFill':[], 'KNN':[], 'SoftImpute':[], 'IterativeSVD':[], 'MatrixFactorization':[], 'IterativeImputer':[]}}\n",
    "missing_data = {'x':[], 'y':[]}\n",
    "for user_number in range(0, len(begin_time)):\n",
    "    clear_output(wait=True)\n",
    "    data_x, data_x_org, data_y, data_y_org, missing_x, missing_y = data_masker(users_traces, user_number, 'time_d', 'time_s', 'x_grid', 'y_grid', 0.2)\n",
    "    missing_data['x'].append(missing_x)\n",
    "    missing_data['y'].append(missing_y)\n",
    "    print(user_number, ' is under processing!')\n",
    "    x_filled_simplefill,\\\n",
    "    x_filled_knn,\\\n",
    "    x_filled_softimpute,\\\n",
    "    x_filled_iterativeSVD,\\\n",
    "    x_filled_matrixfactorization,\\\n",
    "    x_filled_iterativeimputer,\\\n",
    "    y_filled_simplefill,\\\n",
    "    y_filled_knn,\\\n",
    "    y_filled_softimpute,\\\n",
    "    y_filled_iterativeSVD,\\\n",
    "    y_filled_matrixfactorization,\\\n",
    "    y_filled_iterativeimputer = fill_data(data_x, data_y)\n",
    "    \n",
    "    for filled_data in [[x_filled_simplefill,y_filled_simplefill, 'SimpleFill'],\n",
    "                        [x_filled_knn, y_filled_knn, 'KNN'],\n",
    "                        [x_filled_softimpute, y_filled_softimpute, 'SoftImpute'],\n",
    "                        [x_filled_iterativeSVD, y_filled_iterativeSVD, 'IterativeSVD'],\n",
    "                        [x_filled_matrixfactorization, y_filled_matrixfactorization, 'MatrixFactorization'],\n",
    "                        [x_filled_iterativeimputer, y_filled_iterativeimputer, 'IterativeImputer']]:\n",
    "    \n",
    "        xy_filled_df = filled_to_df(filled_data[0], filled_data[1], begin_time['start'].iloc[user_number])\n",
    "        data_xy = not_filled_to_df(data_x, data_y, 1)\n",
    "        data_xy_org = not_filled_to_df(data_x_org, data_y_org, 0)\n",
    "        labled_data = label_data(xy_filled_df, data_xy, data_xy_org, 'black', 'red', 'gold', 'green')\n",
    "        mae_x, mae_y = mae_calc(labled_data, 'masked', 'value_x_org', 'value_x', 'value_y_org', 'value_y')\n",
    "        mae['x'][filled_data[2]].append(mae_x)\n",
    "        mae['y'][filled_data[2]].append(mae_y)\n",
    "        create_animation(labled_data, user_number, filled_data[2])\n"
   ]
  },
  {
   "cell_type": "markdown",
   "metadata": {},
   "source": [
    "### Visualization The Measurements"
   ]
  },
  {
   "cell_type": "code",
   "execution_count": 65,
   "metadata": {},
   "outputs": [],
   "source": [
    "# convert mse dict to dataframe\n",
    "x_mae = pd.DataFrame.from_dict(mae['x'], orient='index').transpose()\n",
    "y_mae = pd.DataFrame.from_dict(mae['y'], orient='index').transpose()"
   ]
  },
  {
   "cell_type": "code",
   "execution_count": 66,
   "metadata": {},
   "outputs": [
    {
     "data": {
      "text/plain": [
       "SimpleFill             3.062235\n",
       "KNN                    1.511758\n",
       "SoftImpute             2.611061\n",
       "IterativeSVD           3.316086\n",
       "MatrixFactorization    2.207322\n",
       "IterativeImputer       1.472025\n",
       "dtype: float64"
      ]
     },
     "execution_count": 66,
     "metadata": {},
     "output_type": "execute_result"
    }
   ],
   "source": [
    "x_mae.mean()"
   ]
  },
  {
   "cell_type": "code",
   "execution_count": 67,
   "metadata": {},
   "outputs": [
    {
     "data": {
      "text/plain": [
       "SimpleFill             0.492045\n",
       "KNN                    0.280537\n",
       "SoftImpute             0.437107\n",
       "IterativeSVD           0.561560\n",
       "MatrixFactorization    0.411324\n",
       "IterativeImputer       0.310712\n",
       "dtype: float64"
      ]
     },
     "execution_count": 67,
     "metadata": {},
     "output_type": "execute_result"
    }
   ],
   "source": [
    "y_mae.mean()"
   ]
  },
  {
   "cell_type": "code",
   "execution_count": 76,
   "metadata": {},
   "outputs": [
    {
     "data": {
      "text/plain": [
       "Text(0.5, 0, 'km')"
      ]
     },
     "execution_count": 76,
     "metadata": {},
     "output_type": "execute_result"
    },
    {
     "data": {
      "image/png": "[encoded data removed]",
      "text/plain": [
       "<Figure size 1008x720 with 1 Axes>"
      ]
     },
     "metadata": {},
     "output_type": "display_data"
    }
   ],
   "source": [
    "plot = (x_mae/10).plot.kde(title=\"KDE-Plot of each Method MAE (X)\", figsize=(14, 10)).set_xlabel(\"km\")\n",
    "plot"
   ]
  },
  {
   "cell_type": "code",
   "execution_count": 77,
   "metadata": {},
   "outputs": [
    {
     "data": {
      "text/plain": [
       "Text(0.5, 0, 'km')"
      ]
     },
     "execution_count": 77,
     "metadata": {},
     "output_type": "execute_result"
    },
    {
     "data": {
      "image/png": "[encoded data removed]",
      "text/plain": [
       "<Figure size 1008x720 with 1 Axes>"
      ]
     },
     "metadata": {},
     "output_type": "display_data"
    }
   ],
   "source": [
    "plot = (y_mae/10).plot.kde(title=\"KDE-Plot of each Method MAE (Y)\", figsize=(14, 10)).set_xlabel(\"km\")\n",
    "plot"
   ]
  },
  {
   "cell_type": "code",
   "execution_count": 70,
   "metadata": {},
   "outputs": [],
   "source": [
    "# convert missing data dict to dataframe\n",
    "missing_percentage = pd.DataFrame.from_dict(missing_data, orient='index').transpose()"
   ]
  },
  {
   "cell_type": "code",
   "execution_count": 71,
   "metadata": {},
   "outputs": [
    {
     "data": {
      "text/plain": [
       "x    0.454504\n",
       "y    0.454823\n",
       "dtype: float64"
      ]
     },
     "execution_count": 71,
     "metadata": {},
     "output_type": "execute_result"
    }
   ],
   "source": [
    "missing_percentage.mean()"
   ]
  },
  {
   "cell_type": "code",
   "execution_count": 72,
   "metadata": {},
   "outputs": [
    {
     "data": {
      "text/plain": [
       "Text(0.5, 0, '%')"
      ]
     },
     "execution_count": 72,
     "metadata": {},
     "output_type": "execute_result"
    },
    {
     "data": {
      "image/png": "[encoded data removed]",
      "text/plain": [
       "<Figure size 1008x720 with 1 Axes>"
      ]
     },
     "metadata": {},
     "output_type": "display_data"
    }
   ],
   "source": [
    "plot = missing_percentage.plot.kde(title=\"KDE-Plot of Missing Data Percentage\", figsize=(14, 10)).set_xlabel(\"%\")\n",
    "plot"
   ]
  },
  {
   "cell_type": "code",
   "execution_count": 9,
   "metadata": {},
   "outputs": [
    {
     "data": {
      "text/html": [
       "<div>\n",
       "<style scoped>\n",
       "    .dataframe tbody tr th:only-of-type {\n",
       "        vertical-align: middle;\n",
       "    }\n",
       "\n",
       "    .dataframe tbody tr th {\n",
       "        vertical-align: top;\n",
       "    }\n",
       "\n",
       "    .dataframe thead th {\n",
       "        text-align: right;\n",
       "    }\n",
       "</style>\n",
       "<table border=\"1\" class=\"dataframe\">\n",
       "  <thead>\n",
       "    <tr style=\"text-align: right;\">\n",
       "      <th></th>\n",
       "      <th>user_id</th>\n",
       "      <th>record_time</th>\n",
       "      <th>lat</th>\n",
       "      <th>lon</th>\n",
       "      <th>x</th>\n",
       "      <th>y</th>\n",
       "      <th>x_grid</th>\n",
       "      <th>y_grid</th>\n",
       "      <th>grid_label</th>\n",
       "      <th>start</th>\n",
       "      <th>time_ts</th>\n",
       "      <th>time_s</th>\n",
       "      <th>time_d</th>\n",
       "    </tr>\n",
       "  </thead>\n",
       "  <tbody>\n",
       "    <tr>\n",
       "      <th>0</th>\n",
       "      <td>514</td>\n",
       "      <td>2017-02-06 07:50:00</td>\n",
       "      <td>52.120900</td>\n",
       "      <td>-106.678000</td>\n",
       "      <td>385118.999838</td>\n",
       "      <td>5.775813e+06</td>\n",
       "      <td>59</td>\n",
       "      <td>69</td>\n",
       "      <td>59,69</td>\n",
       "      <td>2017-02-06 07:50:00</td>\n",
       "      <td>0 days 00:00:00</td>\n",
       "      <td>0.0</td>\n",
       "      <td>0</td>\n",
       "    </tr>\n",
       "    <tr>\n",
       "      <th>1</th>\n",
       "      <td>514</td>\n",
       "      <td>2017-02-06 07:55:00</td>\n",
       "      <td>52.120925</td>\n",
       "      <td>-106.678000</td>\n",
       "      <td>385119.064127</td>\n",
       "      <td>5.775816e+06</td>\n",
       "      <td>59</td>\n",
       "      <td>70</td>\n",
       "      <td>59,70</td>\n",
       "      <td>2017-02-06 07:50:00</td>\n",
       "      <td>0 days 00:05:00</td>\n",
       "      <td>1.0</td>\n",
       "      <td>0</td>\n",
       "    </tr>\n",
       "    <tr>\n",
       "      <th>2</th>\n",
       "      <td>514</td>\n",
       "      <td>2017-02-06 08:00:00</td>\n",
       "      <td>52.120900</td>\n",
       "      <td>-106.678000</td>\n",
       "      <td>385118.999838</td>\n",
       "      <td>5.775813e+06</td>\n",
       "      <td>59</td>\n",
       "      <td>69</td>\n",
       "      <td>59,69</td>\n",
       "      <td>2017-02-06 07:50:00</td>\n",
       "      <td>0 days 00:10:00</td>\n",
       "      <td>2.0</td>\n",
       "      <td>0</td>\n",
       "    </tr>\n",
       "    <tr>\n",
       "      <th>3</th>\n",
       "      <td>514</td>\n",
       "      <td>2017-02-06 08:05:00</td>\n",
       "      <td>52.120900</td>\n",
       "      <td>-106.678000</td>\n",
       "      <td>385118.999838</td>\n",
       "      <td>5.775813e+06</td>\n",
       "      <td>59</td>\n",
       "      <td>69</td>\n",
       "      <td>59,69</td>\n",
       "      <td>2017-02-06 07:50:00</td>\n",
       "      <td>0 days 00:15:00</td>\n",
       "      <td>3.0</td>\n",
       "      <td>0</td>\n",
       "    </tr>\n",
       "    <tr>\n",
       "      <th>4</th>\n",
       "      <td>514</td>\n",
       "      <td>2017-02-06 08:10:00</td>\n",
       "      <td>52.120900</td>\n",
       "      <td>-106.678000</td>\n",
       "      <td>385118.999838</td>\n",
       "      <td>5.775813e+06</td>\n",
       "      <td>59</td>\n",
       "      <td>69</td>\n",
       "      <td>59,69</td>\n",
       "      <td>2017-02-06 07:50:00</td>\n",
       "      <td>0 days 00:20:00</td>\n",
       "      <td>4.0</td>\n",
       "      <td>0</td>\n",
       "    </tr>\n",
       "    <tr>\n",
       "      <th>...</th>\n",
       "      <td>...</td>\n",
       "      <td>...</td>\n",
       "      <td>...</td>\n",
       "      <td>...</td>\n",
       "      <td>...</td>\n",
       "      <td>...</td>\n",
       "      <td>...</td>\n",
       "      <td>...</td>\n",
       "      <td>...</td>\n",
       "      <td>...</td>\n",
       "      <td>...</td>\n",
       "      <td>...</td>\n",
       "      <td>...</td>\n",
       "    </tr>\n",
       "    <tr>\n",
       "      <th>249864</th>\n",
       "      <td>1364</td>\n",
       "      <td>2017-03-08 12:10:00</td>\n",
       "      <td>52.136450</td>\n",
       "      <td>-106.656276</td>\n",
       "      <td>386645.696759</td>\n",
       "      <td>5.777508e+06</td>\n",
       "      <td>75</td>\n",
       "      <td>86</td>\n",
       "      <td>75,86</td>\n",
       "      <td>2017-02-07 16:10:00</td>\n",
       "      <td>28 days 20:00:00</td>\n",
       "      <td>240.0</td>\n",
       "      <td>28</td>\n",
       "    </tr>\n",
       "    <tr>\n",
       "      <th>249865</th>\n",
       "      <td>1364</td>\n",
       "      <td>2017-03-08 12:15:00</td>\n",
       "      <td>52.136450</td>\n",
       "      <td>-106.656276</td>\n",
       "      <td>386645.696759</td>\n",
       "      <td>5.777508e+06</td>\n",
       "      <td>75</td>\n",
       "      <td>86</td>\n",
       "      <td>75,86</td>\n",
       "      <td>2017-02-07 16:10:00</td>\n",
       "      <td>28 days 20:05:00</td>\n",
       "      <td>241.0</td>\n",
       "      <td>28</td>\n",
       "    </tr>\n",
       "    <tr>\n",
       "      <th>249866</th>\n",
       "      <td>1364</td>\n",
       "      <td>2017-03-08 12:20:00</td>\n",
       "      <td>52.136450</td>\n",
       "      <td>-106.656276</td>\n",
       "      <td>386645.696759</td>\n",
       "      <td>5.777508e+06</td>\n",
       "      <td>75</td>\n",
       "      <td>86</td>\n",
       "      <td>75,86</td>\n",
       "      <td>2017-02-07 16:10:00</td>\n",
       "      <td>28 days 20:10:00</td>\n",
       "      <td>242.0</td>\n",
       "      <td>28</td>\n",
       "    </tr>\n",
       "    <tr>\n",
       "      <th>249867</th>\n",
       "      <td>1364</td>\n",
       "      <td>2017-03-08 12:25:00</td>\n",
       "      <td>52.136450</td>\n",
       "      <td>-106.656276</td>\n",
       "      <td>386645.696759</td>\n",
       "      <td>5.777508e+06</td>\n",
       "      <td>75</td>\n",
       "      <td>86</td>\n",
       "      <td>75,86</td>\n",
       "      <td>2017-02-07 16:10:00</td>\n",
       "      <td>28 days 20:15:00</td>\n",
       "      <td>243.0</td>\n",
       "      <td>28</td>\n",
       "    </tr>\n",
       "    <tr>\n",
       "      <th>249868</th>\n",
       "      <td>1364</td>\n",
       "      <td>2017-03-08 12:30:00</td>\n",
       "      <td>52.136450</td>\n",
       "      <td>-106.656276</td>\n",
       "      <td>386645.696759</td>\n",
       "      <td>5.777508e+06</td>\n",
       "      <td>75</td>\n",
       "      <td>86</td>\n",
       "      <td>75,86</td>\n",
       "      <td>2017-02-07 16:10:00</td>\n",
       "      <td>28 days 20:20:00</td>\n",
       "      <td>244.0</td>\n",
       "      <td>28</td>\n",
       "    </tr>\n",
       "  </tbody>\n",
       "</table>\n",
       "<p>249869 rows × 13 columns</p>\n",
       "</div>"
      ],
      "text/plain": [
       "        user_id         record_time        lat         lon              x  \\\n",
       "0           514 2017-02-06 07:50:00  52.120900 -106.678000  385118.999838   \n",
       "1           514 2017-02-06 07:55:00  52.120925 -106.678000  385119.064127   \n",
       "2           514 2017-02-06 08:00:00  52.120900 -106.678000  385118.999838   \n",
       "3           514 2017-02-06 08:05:00  52.120900 -106.678000  385118.999838   \n",
       "4           514 2017-02-06 08:10:00  52.120900 -106.678000  385118.999838   \n",
       "...         ...                 ...        ...         ...            ...   \n",
       "249864     1364 2017-03-08 12:10:00  52.136450 -106.656276  386645.696759   \n",
       "249865     1364 2017-03-08 12:15:00  52.136450 -106.656276  386645.696759   \n",
       "249866     1364 2017-03-08 12:20:00  52.136450 -106.656276  386645.696759   \n",
       "249867     1364 2017-03-08 12:25:00  52.136450 -106.656276  386645.696759   \n",
       "249868     1364 2017-03-08 12:30:00  52.136450 -106.656276  386645.696759   \n",
       "\n",
       "                   y  x_grid  y_grid grid_label               start  \\\n",
       "0       5.775813e+06      59      69      59,69 2017-02-06 07:50:00   \n",
       "1       5.775816e+06      59      70      59,70 2017-02-06 07:50:00   \n",
       "2       5.775813e+06      59      69      59,69 2017-02-06 07:50:00   \n",
       "3       5.775813e+06      59      69      59,69 2017-02-06 07:50:00   \n",
       "4       5.775813e+06      59      69      59,69 2017-02-06 07:50:00   \n",
       "...              ...     ...     ...        ...                 ...   \n",
       "249864  5.777508e+06      75      86      75,86 2017-02-07 16:10:00   \n",
       "249865  5.777508e+06      75      86      75,86 2017-02-07 16:10:00   \n",
       "249866  5.777508e+06      75      86      75,86 2017-02-07 16:10:00   \n",
       "249867  5.777508e+06      75      86      75,86 2017-02-07 16:10:00   \n",
       "249868  5.777508e+06      75      86      75,86 2017-02-07 16:10:00   \n",
       "\n",
       "                time_ts  time_s  time_d  \n",
       "0       0 days 00:00:00     0.0       0  \n",
       "1       0 days 00:05:00     1.0       0  \n",
       "2       0 days 00:10:00     2.0       0  \n",
       "3       0 days 00:15:00     3.0       0  \n",
       "4       0 days 00:20:00     4.0       0  \n",
       "...                 ...     ...     ...  \n",
       "249864 28 days 20:00:00   240.0      28  \n",
       "249865 28 days 20:05:00   241.0      28  \n",
       "249866 28 days 20:10:00   242.0      28  \n",
       "249867 28 days 20:15:00   243.0      28  \n",
       "249868 28 days 20:20:00   244.0      28  \n",
       "\n",
       "[249869 rows x 13 columns]"
      ]
     },
     "execution_count": 9,
     "metadata": {},
     "output_type": "execute_result"
    }
   ],
   "source": [
    "gps_data_time"
   ]
  },
  {
   "cell_type": "code",
   "execution_count": 20,
   "metadata": {},
   "outputs": [
    {
     "data": {
      "text/html": [
       "<div>\n",
       "<style scoped>\n",
       "    .dataframe tbody tr th:only-of-type {\n",
       "        vertical-align: middle;\n",
       "    }\n",
       "\n",
       "    .dataframe tbody tr th {\n",
       "        vertical-align: top;\n",
       "    }\n",
       "\n",
       "    .dataframe thead th {\n",
       "        text-align: right;\n",
       "    }\n",
       "</style>\n",
       "<table border=\"1\" class=\"dataframe\">\n",
       "  <thead>\n",
       "    <tr style=\"text-align: right;\">\n",
       "      <th></th>\n",
       "      <th>count</th>\n",
       "      <th>freq</th>\n",
       "    </tr>\n",
       "  </thead>\n",
       "  <tbody>\n",
       "    <tr>\n",
       "      <th>count</th>\n",
       "      <td>251.000000</td>\n",
       "      <td>251.000000</td>\n",
       "    </tr>\n",
       "    <tr>\n",
       "      <th>mean</th>\n",
       "      <td>157.358566</td>\n",
       "      <td>4.792829</td>\n",
       "    </tr>\n",
       "    <tr>\n",
       "      <th>std</th>\n",
       "      <td>80.405217</td>\n",
       "      <td>4.005610</td>\n",
       "    </tr>\n",
       "    <tr>\n",
       "      <th>min</th>\n",
       "      <td>1.000000</td>\n",
       "      <td>1.000000</td>\n",
       "    </tr>\n",
       "    <tr>\n",
       "      <th>25%</th>\n",
       "      <td>92.500000</td>\n",
       "      <td>2.000000</td>\n",
       "    </tr>\n",
       "    <tr>\n",
       "      <th>50%</th>\n",
       "      <td>163.000000</td>\n",
       "      <td>3.000000</td>\n",
       "    </tr>\n",
       "    <tr>\n",
       "      <th>75%</th>\n",
       "      <td>225.500000</td>\n",
       "      <td>7.000000</td>\n",
       "    </tr>\n",
       "    <tr>\n",
       "      <th>max</th>\n",
       "      <td>288.000000</td>\n",
       "      <td>17.000000</td>\n",
       "    </tr>\n",
       "  </tbody>\n",
       "</table>\n",
       "</div>"
      ],
      "text/plain": [
       "            count        freq\n",
       "count  251.000000  251.000000\n",
       "mean   157.358566    4.792829\n",
       "std     80.405217    4.005610\n",
       "min      1.000000    1.000000\n",
       "25%     92.500000    2.000000\n",
       "50%    163.000000    3.000000\n",
       "75%    225.500000    7.000000\n",
       "max    288.000000   17.000000"
      ]
     },
     "execution_count": 20,
     "metadata": {},
     "output_type": "execute_result"
    }
   ],
   "source": [
    "record_info = gps_data_time.groupby(['user_id', 'time_d']).size().reset_index(name = 'count')\n",
    "record_info = record_info.groupby('count').size().reset_index(name='freq')\n",
    "record_info.describe()"
   ]
  },
  {
   "cell_type": "code",
   "execution_count": 22,
   "metadata": {},
   "outputs": [
    {
     "data": {
      "text/plain": [
       "Text(0.5,0,'Daily Records')"
      ]
     },
     "execution_count": 22,
     "metadata": {},
     "output_type": "execute_result"
    },
    {
     "data": {
      "image/png": "[encoded data removed]",
      "text/plain": [
       "<Figure size 1008x720 with 1 Axes>"
      ]
     },
     "metadata": {
      "needs_background": "light"
     },
     "output_type": "display_data"
    }
   ],
   "source": [
    "record_info = gps_data_time.groupby(['user_id', 'time_d']).size().reset_index(name = 'count')\n",
    "record_info = record_info.drop(['user_id', 'time_d'], axis=1)\n",
    "\n",
    "plot = record_info.plot.kde(title=\"Density Plot of Daily User Records\", figsize=(14, 10)).set_xlabel(\"Daily Records\")\n",
    "plot"
   ]
  },
  {
   "cell_type": "code",
   "execution_count": null,
   "metadata": {},
   "outputs": [],
   "source": []
  }
 ],
 "metadata": {
  "kernelspec": {
   "display_name": "Python 3",
   "language": "python",
   "name": "python3"
  },
  "language_info": {
   "codemirror_mode": {
    "name": "ipython",
    "version": 3
   },
   "file_extension": ".py",
   "mimetype": "text/x-python",
   "name": "python",
   "nbconvert_exporter": "python",
   "pygments_lexer": "ipython3",
   "version": "3.6.6"
  }
 },
 "nbformat": 4,
 "nbformat_minor": 2
}
